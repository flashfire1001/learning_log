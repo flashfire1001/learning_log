{
 "cells": [
  {
   "cell_type": "markdown",
   "metadata": {},
   "source": [
    "to make web page, you need to go through 3 steps:\n",
    "defineing URls,writing views,and writing templates"
   ]
  },
  {
   "cell_type": "markdown",
   "metadata": {},
   "source": [
    "defining the URL pattern:A URL pattern describes the way the URL is laid out. It also tells Django what to look for when matching a browser request with a site URL, so it knows which page to return."
   ]
  },
  {
   "cell_type": "markdown",
   "metadata": {},
   "source": [
    "Each URL then maps to a particular view. The view function retrieves and processes the data needed for that page. The view function often renders the page using a template, which contains the overall structure of the page."
   ]
  },
  {
   "cell_type": "markdown",
   "metadata": {},
   "source": [
    "When building a website, some elements will need to be repeated on each page. Rather than writing these elements directly into each page, you can write a base template containing the repeated elements and then have each page inherit from the base. This approach lets you focus on developing the unique aspects of each page, and makes it much easier to change the overall look and feel of the project."
   ]
  },
  {
   "cell_type": "markdown",
   "metadata": {},
   "source": [
    "url uniform resource locator == address\n",
    "\n",
    "url form 协议类型:[//[访问资源需要的凭证信息@]服务器地址[:端口号]][/资源层级UNIX文件路径]文件名?查询\n",
    "\n",
    "syntax:\n",
    "scheme://host.domain:port/path/filename\n",
    "（1）scheme - 定义因特网服务的类型。最常见的类型是 http （2）host - 定义域主机（http 的默认主机是 www） （3）domain - 定义因特网域名，比如 w3school.com.cn （4）:port - 定义主机上的端口号（http 的默认端口号是 80） （5）path - 定义服务器上的路径（如果省略，则文档必须位于网站的根目录中）。（6）filename - 定义文档/资源的名称\n"
   ]
  },
  {
   "cell_type": "code",
   "execution_count": null,
   "metadata": {
    "vscode": {
     "languageId": "plaintext"
    }
   },
   "outputs": [],
   "source": [
    "href: hypertext reference 目的不是为了引用资源，而是为了建立联系，让当前标签能够链接到目标地址。\n",
    "src:source指向外部资源的位置，指向的内容(like image and video)将会应用到文档中当前标签所在位置(a region)\n"
   ]
  },
  {
   "cell_type": "markdown",
   "metadata": {},
   "source": [
    "In a simple HTML page, a link is surrounded by the anchor tag <a>:\n",
    "<a href=\"link_url\">link text</a>\n",
    "<p> a new paragraph </p>\n",
    "#block or placeholder:the child template will define the kind of information that\n",
    "goes in the content block."
   ]
  },
  {
   "cell_type": "markdown",
   "metadata": {},
   "source": [
    "{% extends 'learning_logs/base.html' %}\n",
    "is to inherit from the parent template. this line pulls everything in the base.html template and allows index.html to define what goes in the space reserved by the content block."
   ]
  },
  {
   "cell_type": "markdown",
   "metadata": {},
   "source": [
    "the benefit of template inheritance: in a child template, we only need to include content that’s unique to that page.Everything that we aren’t inheriting from the parent template goes inside the content block.start by inserting a {%block %  }tagand indicating we are finished by using a {%endblock content%} tag"
   ]
  },
  {
   "cell_type": "markdown",
   "metadata": {},
   "source": [
    "user authentication system（register an account) and build forms to users can add/enter their own topic and entries and edit existing entries.\n",
    "restrict access for different users; Then you’ll modify some of the view functions\n",
    "so users can only see their own data. \n",
    "You’ll also learn to keep your users’ data safe and secure.\n"
   ]
  }
 ],
 "metadata": {
  "language_info": {
   "name": "python"
  }
 },
 "nbformat": 4,
 "nbformat_minor": 2
}
